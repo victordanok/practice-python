{
 "cells": [
  {
   "cell_type": "code",
   "execution_count": 1,
   "metadata": {},
   "outputs": [],
   "source": [
    "from datetime import date, datetime"
   ]
  },
  {
   "cell_type": "code",
   "execution_count": 3,
   "metadata": {},
   "outputs": [],
   "source": [
    "#entry = str(input(\"Enter birthday(yyyy-mm-dd): \"))"
   ]
  },
  {
   "cell_type": "code",
   "execution_count": 7,
   "metadata": {},
   "outputs": [],
   "source": [
    "def date():\n",
    "    from datetime import datetime, date\n",
    "\n",
    "    #input for first date\n",
    "    y1,m1,d1 = [int(x) for x in input(\"Enter birthday(yyyy/mm/dd): \").split('/')]\n",
    "    b1 = date(y1,m1,d1) \n",
    "\n",
    "    #input for second date\n",
    "    y2,m2,d2 = [int(x) for x in input(\"Enter birthday(yyyy/mm/dd): \").split('/')]\n",
    "    b2 = date(y2,m2,d2) \n",
    "\n",
    "    #date checks\n",
    "    if m1 == m2 and d1 == d2:\n",
    "        return \"Happy Birthday\"\n",
    "    else: \n",
    "        return \"Enjoy your day\""
   ]
  },
  {
   "cell_type": "code",
   "execution_count": 8,
   "metadata": {},
   "outputs": [
    {
     "data": {
      "text/plain": [
       "'Happy Birthday'"
      ]
     },
     "execution_count": 8,
     "metadata": {},
     "output_type": "execute_result"
    }
   ],
   "source": [
    "date()"
   ]
  },
  {
   "cell_type": "code",
   "execution_count": 9,
   "metadata": {},
   "outputs": [
    {
     "data": {
      "text/plain": [
       "'Enjoy your day'"
      ]
     },
     "execution_count": 9,
     "metadata": {},
     "output_type": "execute_result"
    }
   ],
   "source": [
    "date()"
   ]
  },
  {
   "cell_type": "code",
   "execution_count": 26,
   "metadata": {},
   "outputs": [],
   "source": [
    "def date1():\n",
    "    from datetime import datetime, date\n",
    "\n",
    "    #input for first date\n",
    "    y1,m1,d1 = [int(x) for x in input(\"Enter birthday(yyyy/mm/dd): \").split('/')]\n",
    "    b1 = date(y1,m1,d1) \n",
    "\n",
    "    #input for second date\n",
    "    y2,m2,d2 = [int(x) for x in int(date.today())]\n",
    "    b2 = date(y2,m2,d2) \n",
    "\n",
    "    #date checks\n",
    "    if m1 == m2 and d1 == d2:\n",
    "        return \"Happy Birthday\"\n",
    "    else: \n",
    "        return \"Enjoy your day\""
   ]
  },
  {
   "cell_type": "code",
   "execution_count": 27,
   "metadata": {},
   "outputs": [
    {
     "ename": "TypeError",
     "evalue": "int() argument must be a string, a bytes-like object or a real number, not 'datetime.date'",
     "output_type": "error",
     "traceback": [
      "\u001b[1;31m---------------------------------------------------------------------------\u001b[0m",
      "\u001b[1;31mTypeError\u001b[0m                                 Traceback (most recent call last)",
      "\u001b[1;32mc:\\Users\\User\\OneDrive\\Documents\\GitHub\\practice-python\\birthday-function.ipynb Cell 7'\u001b[0m in \u001b[0;36m<module>\u001b[1;34m\u001b[0m\n\u001b[1;32m----> <a href='vscode-notebook-cell:/c%3A/Users/User/OneDrive/Documents/GitHub/practice-python/birthday-function.ipynb#ch0000009?line=0'>1</a>\u001b[0m date1()\n",
      "\u001b[1;32mc:\\Users\\User\\OneDrive\\Documents\\GitHub\\practice-python\\birthday-function.ipynb Cell 6'\u001b[0m in \u001b[0;36mdate1\u001b[1;34m()\u001b[0m\n\u001b[0;32m      <a href='vscode-notebook-cell:/c%3A/Users/User/OneDrive/Documents/GitHub/practice-python/birthday-function.ipynb#ch0000005?line=5'>6</a>\u001b[0m b1 \u001b[39m=\u001b[39m date(y1,m1,d1) \n\u001b[0;32m      <a href='vscode-notebook-cell:/c%3A/Users/User/OneDrive/Documents/GitHub/practice-python/birthday-function.ipynb#ch0000005?line=7'>8</a>\u001b[0m \u001b[39m#input for second date\u001b[39;00m\n\u001b[1;32m----> <a href='vscode-notebook-cell:/c%3A/Users/User/OneDrive/Documents/GitHub/practice-python/birthday-function.ipynb#ch0000005?line=8'>9</a>\u001b[0m y2,m2,d2 \u001b[39m=\u001b[39m [\u001b[39mint\u001b[39m(x) \u001b[39mfor\u001b[39;00m x \u001b[39min\u001b[39;00m \u001b[39mint\u001b[39;49m(date\u001b[39m.\u001b[39;49mtoday())]\n\u001b[0;32m     <a href='vscode-notebook-cell:/c%3A/Users/User/OneDrive/Documents/GitHub/practice-python/birthday-function.ipynb#ch0000005?line=9'>10</a>\u001b[0m b2 \u001b[39m=\u001b[39m date(y2,m2,d2) \n\u001b[0;32m     <a href='vscode-notebook-cell:/c%3A/Users/User/OneDrive/Documents/GitHub/practice-python/birthday-function.ipynb#ch0000005?line=11'>12</a>\u001b[0m \u001b[39m#date checks\u001b[39;00m\n",
      "\u001b[1;31mTypeError\u001b[0m: int() argument must be a string, a bytes-like object or a real number, not 'datetime.date'"
     ]
    }
   ],
   "source": [
    "date1()"
   ]
  },
  {
   "cell_type": "code",
   "execution_count": 22,
   "metadata": {},
   "outputs": [
    {
     "data": {
      "text/plain": [
       "datetime.datetime(2022, 4, 8, 10, 44, 1, 800168)"
      ]
     },
     "execution_count": 22,
     "metadata": {},
     "output_type": "execute_result"
    }
   ],
   "source": [
    "from datetime import date\n",
    "datetime.now()"
   ]
  },
  {
   "cell_type": "code",
   "execution_count": 28,
   "metadata": {},
   "outputs": [
    {
     "ename": "TypeError",
     "evalue": "int() argument must be a string, a bytes-like object or a real number, not 'datetime.date'",
     "output_type": "error",
     "traceback": [
      "\u001b[1;31m---------------------------------------------------------------------------\u001b[0m",
      "\u001b[1;31mTypeError\u001b[0m                                 Traceback (most recent call last)",
      "\u001b[1;32mc:\\Users\\User\\OneDrive\\Documents\\GitHub\\practice-python\\birthday-function.ipynb Cell 9'\u001b[0m in \u001b[0;36m<module>\u001b[1;34m\u001b[0m\n\u001b[1;32m----> <a href='vscode-notebook-cell:/c%3A/Users/User/OneDrive/Documents/GitHub/practice-python/birthday-function.ipynb#ch0000007?line=0'>1</a>\u001b[0m y2,m2,d2 \u001b[39m=\u001b[39m [\u001b[39mint\u001b[39m(x) \u001b[39mfor\u001b[39;00m x \u001b[39min\u001b[39;00m \u001b[39mint\u001b[39;49m(date\u001b[39m.\u001b[39;49mtoday())]\n\u001b[0;32m      <a href='vscode-notebook-cell:/c%3A/Users/User/OneDrive/Documents/GitHub/practice-python/birthday-function.ipynb#ch0000007?line=1'>2</a>\u001b[0m b2 \u001b[39m=\u001b[39m date(y2,m2,d2)\n",
      "\u001b[1;31mTypeError\u001b[0m: int() argument must be a string, a bytes-like object or a real number, not 'datetime.date'"
     ]
    }
   ],
   "source": [
    "y2,m2,d2 = [int(x) for x in int(date.today())]\n",
    "b2 = date(y2,m2,d2) "
   ]
  },
  {
   "cell_type": "code",
   "execution_count": null,
   "metadata": {},
   "outputs": [],
   "source": []
  }
 ],
 "metadata": {
  "interpreter": {
   "hash": "aecd030d4c8316a52bf122072e28f84bcc79844c2684e041fef2e3f1d9f59078"
  },
  "kernelspec": {
   "display_name": "Python 3.10.2 64-bit",
   "language": "python",
   "name": "python3"
  },
  "language_info": {
   "codemirror_mode": {
    "name": "ipython",
    "version": 3
   },
   "file_extension": ".py",
   "mimetype": "text/x-python",
   "name": "python",
   "nbconvert_exporter": "python",
   "pygments_lexer": "ipython3",
   "version": "3.10.2"
  },
  "orig_nbformat": 4
 },
 "nbformat": 4,
 "nbformat_minor": 2
}

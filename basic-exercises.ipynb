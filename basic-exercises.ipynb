{
 "cells": [
  {
   "cell_type": "markdown",
   "metadata": {},
   "source": [
    "Exercise 1: Calculate the multiplication and sum of two numbers\n",
    "\n",
    "Given two integer numbers return their product only if the product is greater than 1000, else return their sum."
   ]
  },
  {
   "cell_type": "code",
   "execution_count": 6,
   "metadata": {},
   "outputs": [],
   "source": [
    "def cal(a):\n",
    "    \"\"\"Given two integer numbers return their product only if the product is greater than 1000, else return their sum.\"\"\"\n",
    "\n",
    "    a = int(input(\"Enter the first number: \"))\n",
    "    b = int(input(\"Enter the second number: \"))\n",
    "\n",
    "    sum_ab = a + b\n",
    "    prod_ab = a * b\n",
    "\n",
    "    if prod_ab <= 1000:\n",
    "        return (\"The sum of \" + str(a) + \" and \" + str(b) + \" is \" + str(sum_ab))\n",
    "    else:\n",
    "        return (\"The product of \" + str(a) + \" and \" + str(b) + \" is \" + str(prod_ab))"
   ]
  },
  {
   "cell_type": "code",
   "execution_count": 7,
   "metadata": {},
   "outputs": [
    {
     "data": {
      "text/plain": [
       "'The product of 43 and 243 is 10449'"
      ]
     },
     "execution_count": 7,
     "metadata": {},
     "output_type": "execute_result"
    }
   ],
   "source": [
    "cal(int)"
   ]
  },
  {
   "cell_type": "markdown",
   "metadata": {},
   "source": [
    "Exercise 2: Print the sum of the current number and the previous number\n",
    "\n",
    "Write a program to iterate the first 10 numbers and in each iteration, print the sum of the current and previous number."
   ]
  },
  {
   "cell_type": "code",
   "execution_count": 1,
   "metadata": {},
   "outputs": [
    {
     "name": "stdout",
     "output_type": "stream",
     "text": [
      "Current Number 1 Previous Number  0  Sum:  1\n",
      "Current Number 2 Previous Number  1  Sum:  3\n",
      "Current Number 3 Previous Number  2  Sum:  5\n",
      "Current Number 4 Previous Number  3  Sum:  7\n",
      "Current Number 5 Previous Number  4  Sum:  9\n",
      "Current Number 6 Previous Number  5  Sum:  11\n",
      "Current Number 7 Previous Number  6  Sum:  13\n",
      "Current Number 8 Previous Number  7  Sum:  15\n",
      "Current Number 9 Previous Number  8  Sum:  17\n",
      "Current Number 10 Previous Number  9  Sum:  19\n"
     ]
    }
   ],
   "source": [
    "prev_num = 0\n",
    "\n",
    "for i in range(1, 11):\n",
    "    x_sum = prev_num + i\n",
    "    print(\"Current Number\", i, \"Previous Number \", prev_num, \" Sum: \", prev_num + i)\n",
    "    prev_num = i"
   ]
  },
  {
   "cell_type": "markdown",
   "metadata": {},
   "source": [
    "Exercise 3: Print characters from a string that are present at an even index number\n",
    "\n",
    "Write a program to accept a string from the user and display characters that are present at an even index number.\n",
    "\n",
    "For example, str = \"pynative\" so you should display ‘p’, ‘n’, ‘t’, ‘v’"
   ]
  },
  {
   "cell_type": "code",
   "execution_count": 2,
   "metadata": {},
   "outputs": [
    {
     "name": "stdout",
     "output_type": "stream",
     "text": [
      "index[ 0 ] b\n",
      "index[ 2 ] n\n"
     ]
    }
   ],
   "source": [
    "word = str(input(\"Enter a word\"))\n",
    "\n",
    "length = len(word)\n",
    "\n",
    "for i in range(0, length -1, 2):\n",
    "    print(\"index[\", i, \"]\", word[i])"
   ]
  },
  {
   "cell_type": "markdown",
   "metadata": {},
   "source": [
    "Exercise 4: Remove first n characters from a string\n",
    "\n",
    "Write a program to remove characters from a string starting from zero up to n and return a new string.\n",
    "\n",
    "For example:\n",
    "\n",
    "remove_chars(\"pynative\", 4) so output must be tive. Here we need to remove first four characters from a string.\n",
    "remove_chars(\"pynative\", 2) so output must be native. Here we need to remove first two characters from a string"
   ]
  },
  {
   "cell_type": "code",
   "execution_count": 3,
   "metadata": {},
   "outputs": [
    {
     "data": {
      "text/plain": [
       "'tive'"
      ]
     },
     "execution_count": 3,
     "metadata": {},
     "output_type": "execute_result"
    }
   ],
   "source": [
    "text =  'pynative'\n",
    "\n",
    "text[4:]"
   ]
  },
  {
   "cell_type": "code",
   "execution_count": 4,
   "metadata": {},
   "outputs": [
    {
     "data": {
      "text/plain": [
       "'native'"
      ]
     },
     "execution_count": 4,
     "metadata": {},
     "output_type": "execute_result"
    }
   ],
   "source": [
    "text[2:]"
   ]
  },
  {
   "cell_type": "code",
   "execution_count": 10,
   "metadata": {},
   "outputs": [],
   "source": [
    "def word_edit():\n",
    "\n",
    "    text = str(input(\"enter a word\"))\n",
    "    n = int(input(\"enter the number of words to remove\"))\n",
    "\n",
    "    size = len(text)\n",
    "    new_word = text[n:]\n",
    "    return new_word"
   ]
  },
  {
   "cell_type": "code",
   "execution_count": 11,
   "metadata": {},
   "outputs": [
    {
     "data": {
      "text/plain": [
       "'rive'"
      ]
     },
     "execution_count": 11,
     "metadata": {},
     "output_type": "execute_result"
    }
   ],
   "source": [
    "word_edit()"
   ]
  },
  {
   "cell_type": "markdown",
   "metadata": {},
   "source": [
    "Exercise 6: Display numbers divisible by 5 from a list\n",
    "\n",
    "Iterate the given list of numbers and print only those numbers which are divisible by 5"
   ]
  },
  {
   "cell_type": "code",
   "execution_count": 7,
   "metadata": {},
   "outputs": [
    {
     "name": "stdout",
     "output_type": "stream",
     "text": [
      "The given list is:  [10, 20, 33, 46, 55]\n",
      "Numbers divisible by 5 are: \n",
      "10\n",
      "20\n",
      "55\n"
     ]
    }
   ],
   "source": [
    "list = [10, 20, 33, 46, 55]\n",
    "print(\"The given list is: \", list)\n",
    "print(\"Numbers divisible by 5 are: \")\n",
    "for i in list:\n",
    "    if i%5 == 0:\n",
    "        print (i)"
   ]
  },
  {
   "cell_type": "markdown",
   "metadata": {},
   "source": [
    "Exercise 7: Return the count of a given substring from a string\n",
    "\n",
    "Write a program to find how many times substring “Emma” appears in the given string."
   ]
  },
  {
   "cell_type": "code",
   "execution_count": 12,
   "metadata": {},
   "outputs": [
    {
     "name": "stdout",
     "output_type": "stream",
     "text": [
      "Emma appeared 2 times\n"
     ]
    }
   ],
   "source": [
    "str_x = \"Emma is good developer. Emma is a writer\"\n",
    "\n",
    "appear = str_x.count(\"Emma\")\n",
    "\n",
    "print(\"Emma appeared \" + str(appear) + \" times\")"
   ]
  },
  {
   "cell_type": "code",
   "execution_count": 13,
   "metadata": {},
   "outputs": [],
   "source": [
    "def pal():\n",
    "    var = int(input('Enter a number: '))\n",
    "    var1 = reversed(var)\n",
    "\n",
    "    if var == var1:\n",
    "        return \"Yes. Given number is a palindrome\"\n",
    "\n",
    "    else:\n",
    "        return \"No. Given number is not a palindrome\""
   ]
  },
  {
   "cell_type": "code",
   "execution_count": 14,
   "metadata": {},
   "outputs": [
    {
     "ename": "TypeError",
     "evalue": "'int' object is not reversible",
     "output_type": "error",
     "traceback": [
      "\u001b[1;31m---------------------------------------------------------------------------\u001b[0m",
      "\u001b[1;31mTypeError\u001b[0m                                 Traceback (most recent call last)",
      "\u001b[1;32mc:\\Users\\User\\OneDrive\\Documents\\GitHub\\practice-python\\basic-exercises.ipynb Cell 18'\u001b[0m in \u001b[0;36m<module>\u001b[1;34m\u001b[0m\n\u001b[1;32m----> <a href='vscode-notebook-cell:/c%3A/Users/User/OneDrive/Documents/GitHub/practice-python/basic-exercises.ipynb#ch0000018?line=0'>1</a>\u001b[0m pal()\n",
      "\u001b[1;32mc:\\Users\\User\\OneDrive\\Documents\\GitHub\\practice-python\\basic-exercises.ipynb Cell 17'\u001b[0m in \u001b[0;36mpal\u001b[1;34m()\u001b[0m\n\u001b[0;32m      <a href='vscode-notebook-cell:/c%3A/Users/User/OneDrive/Documents/GitHub/practice-python/basic-exercises.ipynb#ch0000017?line=0'>1</a>\u001b[0m \u001b[39mdef\u001b[39;00m \u001b[39mpal\u001b[39m():\n\u001b[0;32m      <a href='vscode-notebook-cell:/c%3A/Users/User/OneDrive/Documents/GitHub/practice-python/basic-exercises.ipynb#ch0000017?line=1'>2</a>\u001b[0m     var \u001b[39m=\u001b[39m \u001b[39mint\u001b[39m(\u001b[39minput\u001b[39m(\u001b[39m'\u001b[39m\u001b[39mEnter a number: \u001b[39m\u001b[39m'\u001b[39m))\n\u001b[1;32m----> <a href='vscode-notebook-cell:/c%3A/Users/User/OneDrive/Documents/GitHub/practice-python/basic-exercises.ipynb#ch0000017?line=2'>3</a>\u001b[0m     var1 \u001b[39m=\u001b[39m \u001b[39mreversed\u001b[39;49m(var)\n\u001b[0;32m      <a href='vscode-notebook-cell:/c%3A/Users/User/OneDrive/Documents/GitHub/practice-python/basic-exercises.ipynb#ch0000017?line=4'>5</a>\u001b[0m     \u001b[39mif\u001b[39;00m var \u001b[39m==\u001b[39m var1:\n\u001b[0;32m      <a href='vscode-notebook-cell:/c%3A/Users/User/OneDrive/Documents/GitHub/practice-python/basic-exercises.ipynb#ch0000017?line=5'>6</a>\u001b[0m         \u001b[39mreturn\u001b[39;00m \u001b[39m\"\u001b[39m\u001b[39mYes. Given number is a palindrome\u001b[39m\u001b[39m\"\u001b[39m\n",
      "\u001b[1;31mTypeError\u001b[0m: 'int' object is not reversible"
     ]
    }
   ],
   "source": [
    "pal()"
   ]
  },
  {
   "cell_type": "code",
   "execution_count": 15,
   "metadata": {},
   "outputs": [],
   "source": [
    "def exponent(base, exp):\n",
    "    return base ** exp"
   ]
  },
  {
   "cell_type": "code",
   "execution_count": 16,
   "metadata": {},
   "outputs": [
    {
     "data": {
      "text/plain": [
       "625"
      ]
     },
     "execution_count": 16,
     "metadata": {},
     "output_type": "execute_result"
    }
   ],
   "source": [
    "exponent(5,4)"
   ]
  },
  {
   "cell_type": "code",
   "execution_count": null,
   "metadata": {},
   "outputs": [],
   "source": []
  }
 ],
 "metadata": {
  "interpreter": {
   "hash": "aecd030d4c8316a52bf122072e28f84bcc79844c2684e041fef2e3f1d9f59078"
  },
  "kernelspec": {
   "display_name": "Python 3.10.2 64-bit",
   "language": "python",
   "name": "python3"
  },
  "language_info": {
   "codemirror_mode": {
    "name": "ipython",
    "version": 3
   },
   "file_extension": ".py",
   "mimetype": "text/x-python",
   "name": "python",
   "nbconvert_exporter": "python",
   "pygments_lexer": "ipython3",
   "version": "3.10.2"
  },
  "orig_nbformat": 4
 },
 "nbformat": 4,
 "nbformat_minor": 2
}

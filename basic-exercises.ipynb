{
 "cells": [
  {
   "cell_type": "markdown",
   "metadata": {},
   "source": [
    "Exercise 1: Calculate the multiplication and sum of two numbers\n",
    "\n",
    "Given two integer numbers return their product only if the product is greater than 1000, else return their sum."
   ]
  },
  {
   "cell_type": "code",
   "execution_count": 6,
   "metadata": {},
   "outputs": [],
   "source": [
    "def cal(a):\n",
    "    \"\"\"Given two integer numbers return their product only if the product is greater than 1000, else return their sum.\"\"\"\n",
    "\n",
    "    a = int(input(\"Enter the first number: \"))\n",
    "    b = int(input(\"Enter the second number: \"))\n",
    "\n",
    "    sum_ab = a + b\n",
    "    prod_ab = a * b\n",
    "\n",
    "    if prod_ab <= 1000:\n",
    "        return (\"The sum of \" + str(a) + \" and \" + str(b) + \" is \" + str(sum_ab))\n",
    "    else:\n",
    "        return (\"The product of \" + str(a) + \" and \" + str(b) + \" is \" + str(prod_ab))"
   ]
  },
  {
   "cell_type": "code",
   "execution_count": 7,
   "metadata": {},
   "outputs": [
    {
     "data": {
      "text/plain": [
       "'The product of 43 and 243 is 10449'"
      ]
     },
     "execution_count": 7,
     "metadata": {},
     "output_type": "execute_result"
    }
   ],
   "source": [
    "cal(int)"
   ]
  },
  {
   "cell_type": "markdown",
   "metadata": {},
   "source": [
    "Exercise 2: Print the sum of the current number and the previous number\n",
    "\n",
    "Write a program to iterate the first 10 numbers and in each iteration, print the sum of the current and previous number."
   ]
  },
  {
   "cell_type": "code",
   "execution_count": 1,
   "metadata": {},
   "outputs": [
    {
     "name": "stdout",
     "output_type": "stream",
     "text": [
      "Current Number 1 Previous Number  0  Sum:  1\n",
      "Current Number 2 Previous Number  1  Sum:  3\n",
      "Current Number 3 Previous Number  2  Sum:  5\n",
      "Current Number 4 Previous Number  3  Sum:  7\n",
      "Current Number 5 Previous Number  4  Sum:  9\n",
      "Current Number 6 Previous Number  5  Sum:  11\n",
      "Current Number 7 Previous Number  6  Sum:  13\n",
      "Current Number 8 Previous Number  7  Sum:  15\n",
      "Current Number 9 Previous Number  8  Sum:  17\n",
      "Current Number 10 Previous Number  9  Sum:  19\n"
     ]
    }
   ],
   "source": [
    "prev_num = 0\n",
    "\n",
    "for i in range(1, 11):\n",
    "    x_sum = prev_num + i\n",
    "    print(\"Current Number\", i, \"Previous Number \", prev_num, \" Sum: \", prev_num + i)\n",
    "    prev_num = i"
   ]
  },
  {
   "cell_type": "markdown",
   "metadata": {},
   "source": [
    "Exercise 3: Print characters from a string that are present at an even index number\n",
    "\n",
    "Write a program to accept a string from the user and display characters that are present at an even index number.\n",
    "\n",
    "For example, str = \"pynative\" so you should display ‘p’, ‘n’, ‘t’, ‘v’"
   ]
  },
  {
   "cell_type": "code",
   "execution_count": 2,
   "metadata": {},
   "outputs": [
    {
     "name": "stdout",
     "output_type": "stream",
     "text": [
      "index[ 0 ] b\n",
      "index[ 2 ] n\n"
     ]
    }
   ],
   "source": [
    "word = str(input(\"Enter a word\"))\n",
    "\n",
    "length = len(word)\n",
    "\n",
    "for i in range(0, length -1, 2):\n",
    "    print(\"index[\", i, \"]\", word[i])"
   ]
  },
  {
   "cell_type": "markdown",
   "metadata": {},
   "source": [
    "Exercise 4: Remove first n characters from a string\n",
    "\n",
    "Write a program to remove characters from a string starting from zero up to n and return a new string.\n",
    "\n",
    "For example:\n",
    "\n",
    "remove_chars(\"pynative\", 4) so output must be tive. Here we need to remove first four characters from a string.\n",
    "remove_chars(\"pynative\", 2) so output must be native. Here we need to remove first two characters from a string"
   ]
  },
  {
   "cell_type": "code",
   "execution_count": 3,
   "metadata": {},
   "outputs": [
    {
     "data": {
      "text/plain": [
       "'tive'"
      ]
     },
     "execution_count": 3,
     "metadata": {},
     "output_type": "execute_result"
    }
   ],
   "source": [
    "text =  'pynative'\n",
    "\n",
    "text[4:]"
   ]
  },
  {
   "cell_type": "code",
   "execution_count": 4,
   "metadata": {},
   "outputs": [
    {
     "data": {
      "text/plain": [
       "'native'"
      ]
     },
     "execution_count": 4,
     "metadata": {},
     "output_type": "execute_result"
    }
   ],
   "source": [
    "text[2:]"
   ]
  },
  {
   "cell_type": "code",
   "execution_count": 10,
   "metadata": {},
   "outputs": [],
   "source": [
    "def word_edit():\n",
    "\n",
    "    text = str(input(\"enter a word\"))\n",
    "    n = int(input(\"enter the number of words to remove\"))\n",
    "\n",
    "    size = len(text)\n",
    "    new_word = text[n:]\n",
    "    return new_word"
   ]
  },
  {
   "cell_type": "code",
   "execution_count": 11,
   "metadata": {},
   "outputs": [
    {
     "data": {
      "text/plain": [
       "'rive'"
      ]
     },
     "execution_count": 11,
     "metadata": {},
     "output_type": "execute_result"
    }
   ],
   "source": [
    "word_edit()"
   ]
  },
  {
   "cell_type": "code",
   "execution_count": null,
   "metadata": {},
   "outputs": [],
   "source": []
  }
 ],
 "metadata": {
  "interpreter": {
   "hash": "aecd030d4c8316a52bf122072e28f84bcc79844c2684e041fef2e3f1d9f59078"
  },
  "kernelspec": {
   "display_name": "Python 3.10.2 64-bit",
   "language": "python",
   "name": "python3"
  },
  "language_info": {
   "codemirror_mode": {
    "name": "ipython",
    "version": 3
   },
   "file_extension": ".py",
   "mimetype": "text/x-python",
   "name": "python",
   "nbconvert_exporter": "python",
   "pygments_lexer": "ipython3",
   "version": "3.10.2"
  },
  "orig_nbformat": 4
 },
 "nbformat": 4,
 "nbformat_minor": 2
}
